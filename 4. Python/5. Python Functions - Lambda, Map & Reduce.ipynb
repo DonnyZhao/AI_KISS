{
 "cells": [
  {
   "cell_type": "markdown",
   "metadata": {},
   "source": [
    "# Functions, Lambdas, and Map/Reduce\n",
    "\n",
    "Functions, **lambdas**, and **map/reduce** can allow you to process your data in advanced ways.  We will introduce these techniques here and expand on them in the next module, which will discuss Pandas.\n",
    "\n",
    "Function parameters can be named or unnamed in Python.  Default values can also be used.  Consider the following function."
   ]
  },
  {
   "cell_type": "code",
   "execution_count": 1,
   "metadata": {},
   "outputs": [
    {
     "name": "stdout",
     "output_type": "stream",
     "text": [
      "Hello John, this is sam.\n",
      "Goodbye John, this is sam.\n",
      "Goodbye John, this is sam.\n"
     ]
    }
   ],
   "source": [
    "def say_hello(speaker, person_to_greet, greeting = \"Hello\"):\n",
    "    print(f'{greeting} {person_to_greet}, this is {speaker}.')\n",
    "    \n",
    "say_hello('sam', \"John\")\n",
    "say_hello('sam', \"John\", \"Goodbye\")\n",
    "say_hello(speaker='sam', person_to_greet=\"John\", greeting = \"Goodbye\")"
   ]
  },
  {
   "cell_type": "markdown",
   "metadata": {},
   "source": [
    "A function is a way to capture code that is commonly executed.  Consider the following function that can be used to trim white space from a string capitalize the first letter."
   ]
  },
  {
   "cell_type": "code",
   "execution_count": 3,
   "metadata": {},
   "outputs": [],
   "source": [
    "def process_string(str):\n",
    "    t = str.strip()\n",
    "    return t[0].upper()+t[1:]"
   ]
  },
  {
   "cell_type": "markdown",
   "metadata": {},
   "source": [
    "This function can now be called quite easily."
   ]
  },
  {
   "cell_type": "code",
   "execution_count": 4,
   "metadata": {},
   "outputs": [
    {
     "name": "stdout",
     "output_type": "stream",
     "text": [
      "\"Hello\"\n"
     ]
    }
   ],
   "source": [
    "str = process_string(\"  hello  \")\n",
    "print(f'\"{str}\"')"
   ]
  },
  {
   "cell_type": "markdown",
   "metadata": {},
   "source": [
    "Python's **map** is a very useful function that is provided in many different programming languages.  The **map** function takes a **list** and applies a function to each member of the **list** and returns a second **list** that is the same size as the first."
   ]
  },
  {
   "cell_type": "code",
   "execution_count": 5,
   "metadata": {},
   "outputs": [
    {
     "data": {
      "text/plain": [
       "['Apple', 'Pear', 'Orange', 'Pine apple']"
      ]
     },
     "execution_count": 5,
     "metadata": {},
     "output_type": "execute_result"
    }
   ],
   "source": [
    "l = ['   apple  ', 'pear ', 'orange', 'pine apple  ']\n",
    "list(map(process_string, l))"
   ]
  },
  {
   "cell_type": "markdown",
   "metadata": {},
   "source": [
    "### Map\n",
    "The **map** function is very similar to the Python **comprehension** that we previously explored.  The following **comprehension** accomplishes the same task as the previous call to **map**."
   ]
  },
  {
   "cell_type": "code",
   "execution_count": 6,
   "metadata": {},
   "outputs": [
    {
     "name": "stdout",
     "output_type": "stream",
     "text": [
      "['Apple', 'Pear', 'Orange', 'Pine apple']\n"
     ]
    }
   ],
   "source": [
    "l = ['   apple  ', 'pear ', 'orange', 'pine apple  ']\n",
    "l2 = [process_string(x) for x in l]\n",
    "print(l2)"
   ]
  },
  {
   "cell_type": "markdown",
   "metadata": {},
   "source": [
    "The choice of using a **map** function or **comprehension** is up to the programmer.  I tend to prefer **map** since it is so common in other programming languages."
   ]
  },
  {
   "cell_type": "markdown",
   "metadata": {},
   "source": [
    "### Filter\n",
    "While a **map function** always creates a new **list** of the same size as the original, the **filter** function creates a potentially smaller **list**. "
   ]
  },
  {
   "cell_type": "code",
   "execution_count": 7,
   "metadata": {},
   "outputs": [
    {
     "name": "stdout",
     "output_type": "stream",
     "text": [
      "[10, 20]\n"
     ]
    }
   ],
   "source": [
    "def greater_than_five(x):\n",
    "    return x>5\n",
    "\n",
    "l = [ 1, 10, 20, 3, -2, 0]\n",
    "l2 = list(filter(greater_than_five, l))\n",
    "print(l2)"
   ]
  },
  {
   "cell_type": "markdown",
   "metadata": {},
   "source": [
    "### Lambda\n",
    "It might seem somewhat tedious to have to create an entire function just to check to see if a value is greater than 5.  A **lambda** saves you this effort.  A lambda is essentially an unnamed function."
   ]
  },
  {
   "cell_type": "code",
   "execution_count": 8,
   "metadata": {},
   "outputs": [
    {
     "name": "stdout",
     "output_type": "stream",
     "text": [
      "[10, 20]\n"
     ]
    }
   ],
   "source": [
    "l = [ 1, 10, 20, 3, -2, 0]\n",
    "l2 = list(filter(lambda x: x>5, l))\n",
    "print(l2)"
   ]
  },
  {
   "cell_type": "markdown",
   "metadata": {},
   "source": [
    "### Reduce\n",
    "\n",
    "Finally, we will make use of **reduce**.  Like **filter** and **map** the **reduce** function also works on a **list**.  However, the result of the **reduce** is a single value.  Consider if you wanted to sum the **values** of a **list**.  The sum is implemented by a **lambda**."
   ]
  },
  {
   "cell_type": "code",
   "execution_count": 9,
   "metadata": {},
   "outputs": [
    {
     "name": "stdout",
     "output_type": "stream",
     "text": [
      "32\n"
     ]
    }
   ],
   "source": [
    "from functools import reduce\n",
    "\n",
    "l = [ 1, 10, 20, 3, -2, 0]\n",
    "result = reduce(lambda x,y: x+y,l)\n",
    "print(result)"
   ]
  }
 ],
 "metadata": {
  "anaconda-cloud": {},
  "kernelspec": {
   "display_name": "Python 3.7 (tensorflow)",
   "language": "python",
   "name": "tenso"
  },
  "language_info": {
   "codemirror_mode": {
    "name": "ipython",
    "version": 3
   },
   "file_extension": ".py",
   "mimetype": "text/x-python",
   "name": "python",
   "nbconvert_exporter": "python",
   "pygments_lexer": "ipython3",
   "version": "3.7.7"
  },
  "toc": {
   "base_numbering": 1,
   "nav_menu": {},
   "number_sections": true,
   "sideBar": true,
   "skip_h1_title": false,
   "title_cell": "Table of Contents",
   "title_sidebar": "Contents",
   "toc_cell": false,
   "toc_position": {},
   "toc_section_display": true,
   "toc_window_display": false
  }
 },
 "nbformat": 4,
 "nbformat_minor": 4
}
